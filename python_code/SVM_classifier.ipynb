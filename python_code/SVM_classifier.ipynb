{
  "cells": [
    {
      "cell_type": "code",
      "execution_count": 171,
      "id": "27bb6d91",
      "metadata": {
        "id": "27bb6d91"
      },
      "outputs": [],
      "source": [
        "import numpy as np\n",
        "import pandas as pd\n",
        "import matplotlib.pyplot as plt\n",
        "from sklearn.metrics import accuracy_score, confusion_matrix, classification_report\n",
        "from sklearn import preprocessing\n",
        "from sklearn.model_selection import train_test_split\n",
        "from sklearn.preprocessing import StandardScaler\n",
        "from sklearn.svm import SVC"
      ]
    },
    {
      "cell_type": "code",
      "execution_count": 172,
      "id": "1491e2b9",
      "metadata": {
        "id": "1491e2b9"
      },
      "outputs": [],
      "source": [
        "def load_data(path):\n",
        "    # print('Loading data...')\n",
        "    data = pd.read_csv(path, sep = \",\", header = None)\n",
        "    n_samples = len(data)\n",
        "    # print('Number of samples:', n_samples)\n",
        "    x = data.values[:, :-1].tolist()\n",
        "    y = data.values[:,-1].tolist()\n",
        "    return data, x, y"
      ]
    },
    {
      "cell_type": "code",
      "execution_count": 173,
      "id": "8f1cfc21",
      "metadata": {
        "id": "8f1cfc21"
      },
      "outputs": [],
      "source": [
        "def split_dataset(x, y, testset_portion, R):\n",
        "    # print('Split dataset.')\n",
        "    x_train, x_test, y_train, y_test = train_test_split(x, y, \\\n",
        "                                       test_size = testset_portion, \\\n",
        "                                       random_state = R)\n",
        "    return x_train, x_test, y_train, y_test"
      ]
    },
    {
      "cell_type": "code",
      "execution_count": 174,
      "id": "3f704aa9",
      "metadata": {
        "id": "3f704aa9"
      },
      "outputs": [],
      "source": [
        "def feature_scaling(x_train, x_test):\n",
        "    # print('Feature scaling.')\n",
        "    sc = StandardScaler()\n",
        "    sc.fit(x_train)\n",
        "    x_train_nor = sc.transform(x_train)\n",
        "    x_test_nor = sc.transform(x_test)\n",
        "    return x_train_nor, x_test_nor"
      ]
    },
    {
      "cell_type": "code",
      "execution_count": 175,
      "id": "546a5ce5",
      "metadata": {
        "id": "546a5ce5"
      },
      "outputs": [],
      "source": [
        "def train_SVM(x_train, y_train, C, Gamma):\n",
        "    # print('Start training.')\n",
        "    clf = SVC(C = C, kernel='rbf', gamma = Gamma)\n",
        "    clf.fit(x_train, y_train)\n",
        "    return clf"
      ]
    },
    {
      "cell_type": "code",
      "execution_count": 176,
      "id": "ed201891",
      "metadata": {
        "id": "ed201891"
      },
      "outputs": [],
      "source": [
        "def test(clf, x_test):\n",
        "    # print('Start testing...')\n",
        "    y_pred = clf.predict(x_test)\n",
        "    return y_pred"
      ]
    },
    {
      "cell_type": "code",
      "execution_count": 204,
      "id": "ec8de15c",
      "metadata": {
        "colab": {
          "base_uri": "https://localhost:8080/"
        },
        "id": "ec8de15c",
        "outputId": "442fa768-cb6b-4069-aeff-2e3349166120"
      },
      "outputs": [
        {
          "output_type": "stream",
          "name": "stdout",
          "text": [
            "\n",
            "Accuracy SVM\n",
            " 0.985\n",
            "\n",
            "Confusion Matrix SVM\n",
            " [[33  1]\n",
            " [ 0 34]]\n",
            "\n",
            "Classification Report SVM\n",
            "               precision    recall  f1-score   support\n",
            "\n",
            "           0       1.00      0.97      0.99        34\n",
            "           1       0.97      1.00      0.99        34\n",
            "\n",
            "    accuracy                           0.99        68\n",
            "   macro avg       0.99      0.99      0.99        68\n",
            "weighted avg       0.99      0.99      0.99        68\n",
            "\n"
          ]
        }
      ],
      "source": [
        "if __name__=='__main__':\n",
        "\n",
        "    path = 'off_hc_open.csv'\n",
        "    testset_portion = 0.2\n",
        "    random_state = 102\n",
        "\n",
        "    data, x, y = load_data(path)\n",
        "\n",
        "    labels = np.unique(np.array(y))\n",
        "\n",
        "    lb = preprocessing.LabelEncoder()\n",
        "    lb.fit(labels)\n",
        "    y=lb.transform(y)\n",
        "\n",
        "    x_train, x_test, y_train, y_test = split_dataset(x, y, testset_portion, random_state)\n",
        "    x_train_nor, x_test_nor = feature_scaling(x_train, x_test)\n",
        "\n",
        "    C=1\n",
        "    Gamma=1\n",
        "\n",
        "    # print(\"Training and Testing for SVM:\")\n",
        "    clf_SVM = train_SVM(x_train_nor, y_train, C, Gamma)\n",
        "    y_pred_SVM = test(clf_SVM, x_test_nor)\n",
        "\n",
        "    acc_SVM = accuracy_score(y_test, y_pred_SVM)\n",
        "    print('\\nAccuracy SVM\\n', round(acc_SVM, 3))\n",
        "\n",
        "    confusion_mat_SVM = confusion_matrix(y_test, y_pred_SVM)\n",
        "    print('\\nConfusion Matrix SVM\\n', confusion_mat_SVM)\n",
        "\n",
        "    print('\\nClassification Report SVM\\n', classification_report(y_test, y_pred_SVM))"
      ]
    }
  ],
  "metadata": {
    "kernelspec": {
      "display_name": "Python 3",
      "language": "python",
      "name": "python3"
    },
    "language_info": {
      "codemirror_mode": {
        "name": "ipython",
        "version": 3
      },
      "file_extension": ".py",
      "mimetype": "text/x-python",
      "name": "python",
      "nbconvert_exporter": "python",
      "pygments_lexer": "ipython3",
      "version": "3.8.8"
    },
    "colab": {
      "provenance": []
    }
  },
  "nbformat": 4,
  "nbformat_minor": 5
}