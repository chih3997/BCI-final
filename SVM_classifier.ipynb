{
 "cells": [
  {
   "cell_type": "code",
   "execution_count": 1,
   "id": "27bb6d91",
   "metadata": {},
   "outputs": [],
   "source": [
    "import numpy as np\n",
    "import pandas as pd\n",
    "import matplotlib.pyplot as plt\n",
    "from sklearn.metrics import accuracy_score, confusion_matrix\n",
    "from sklearn import preprocessing\n",
    "from sklearn.model_selection import train_test_split\n",
    "from sklearn.preprocessing import StandardScaler\n",
    "from sklearn import tree\n",
    "from sklearn.svm import SVC"
   ]
  },
  {
   "cell_type": "code",
   "execution_count": 2,
   "id": "1491e2b9",
   "metadata": {},
   "outputs": [],
   "source": [
    "def load_data(path):\n",
    "    print('Loading data...')    \n",
    "    data = pd.read_csv(path, sep = \",\", header = None)\n",
    "    n_samples = len(data)\n",
    "    print('Number of samples:', n_samples)\n",
    "    x = data.values[:, :-1].tolist()\n",
    "    y = data.values[:,-1].tolist()   \n",
    "    return data, x, y "
   ]
  },
  {
   "cell_type": "code",
   "execution_count": 3,
   "id": "8f1cfc21",
   "metadata": {},
   "outputs": [],
   "source": [
    "def split_dataset(x, y, testset_portion):\n",
    "    print('Split dataset.')\n",
    "    x_train, x_test, y_train, y_test = train_test_split(x, y, \\\n",
    "                                       test_size = testset_portion, \\\n",
    "                                       random_state = None)\n",
    "    return x_train, x_test, y_train, y_test  "
   ]
  },
  {
   "cell_type": "code",
   "execution_count": 4,
   "id": "3f704aa9",
   "metadata": {},
   "outputs": [],
   "source": [
    "def feature_scaling(x_train, x_test):\n",
    "    print('Feature scaling.')\n",
    "    sc = StandardScaler()\n",
    "    sc.fit(x_train)\n",
    "    x_train_nor = sc.transform(x_train)\n",
    "    x_test_nor = sc.transform(x_test)\n",
    "    return x_train_nor, x_test_nor"
   ]
  },
  {
   "cell_type": "code",
   "execution_count": 5,
   "id": "546a5ce5",
   "metadata": {},
   "outputs": [],
   "source": [
    "def train_SVM(x_train, y_train, C, Gamma):\n",
    "    print('Start training.')  \n",
    "    clf = SVC(C = C, kernel='rbf', gamma = Gamma)\n",
    "    clf.fit(x_train, y_train)\n",
    "    return clf"
   ]
  },
  {
   "cell_type": "code",
   "execution_count": 6,
   "id": "ed201891",
   "metadata": {},
   "outputs": [],
   "source": [
    "def test(clf, x_test):\n",
    "    print('Start testing...')    \n",
    "    y_pred = clf.predict(x_test)  \n",
    "    return y_pred"
   ]
  },
  {
   "cell_type": "code",
   "execution_count": 211,
   "id": "ec8de15c",
   "metadata": {},
   "outputs": [
    {
     "name": "stdout",
     "output_type": "stream",
     "text": [
      "Loading data...\n",
      "Number of samples: 336\n",
      "Split dataset.\n",
      "Feature scaling.\n",
      "Training and Testing for SVM:\n",
      "Start training.\n",
      "Start testing...\n",
      "\n",
      "Accuracy SVM with gamma:1 and C:1 is 0.794\n",
      "\n",
      "Confusion Matrix SVM with gamma:1 and C:1 is [[30  5]\n",
      " [ 9 24]]\n"
     ]
    }
   ],
   "source": [
    "if __name__=='__main__':\n",
    "#     path = 'feature_all.csv'\n",
    "\n",
    "    path = 'on_off_open.csv'\n",
    "    testset_portion = 0.2\n",
    "\n",
    "    data, x, y = load_data(path)\n",
    "\n",
    "    labels = np.unique(np.array(y))\n",
    "    \n",
    "    lb = preprocessing.LabelEncoder()\n",
    "    lb.fit(labels)\n",
    "    y=lb.transform(y)\n",
    "    \n",
    "    x_train, x_test, y_train, y_test = split_dataset(x, y, testset_portion)\n",
    "    x_train_nor, x_test_nor = feature_scaling(x_train, x_test)\n",
    "    \n",
    "    C=1\n",
    "    Gamma=1\n",
    "    \n",
    "    print(\"Training and Testing for SVM:\")\n",
    "    clf_SVM = train_SVM(x_train_nor, y_train, C, Gamma)\n",
    "    y_pred_SVM = test(clf_SVM, x_test_nor)\n",
    "\n",
    "    acc_SVM = accuracy_score(y_test, y_pred_SVM)\n",
    "    print('\\nAccuracy SVM with gamma:{} and C:{} is'.format(Gamma, C), round(acc_SVM, 3))\n",
    "    \n",
    "    confusion_mat_SVM = confusion_matrix(y_test, y_pred_SVM)\n",
    "    print('\\nConfusion Matrix SVM with gamma:{} and C:{} is'.format(Gamma, C), confusion_mat_SVM)\n",
    "    \n",
    "#     precision =  "
   ]
  },
  {
   "cell_type": "code",
   "execution_count": null,
   "id": "b931404f",
   "metadata": {},
   "outputs": [],
   "source": []
  }
 ],
 "metadata": {
  "kernelspec": {
   "display_name": "Python 3",
   "language": "python",
   "name": "python3"
  },
  "language_info": {
   "codemirror_mode": {
    "name": "ipython",
    "version": 3
   },
   "file_extension": ".py",
   "mimetype": "text/x-python",
   "name": "python",
   "nbconvert_exporter": "python",
   "pygments_lexer": "ipython3",
   "version": "3.8.8"
  }
 },
 "nbformat": 4,
 "nbformat_minor": 5
}
